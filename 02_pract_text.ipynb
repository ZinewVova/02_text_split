{
  "nbformat": 4,
  "nbformat_minor": 0,
  "metadata": {
    "colab": {
      "provenance": []
    },
    "kernelspec": {
      "name": "python3",
      "display_name": "Python 3"
    },
    "language_info": {
      "name": "python"
    }
  },
  "cells": [
    {
      "cell_type": "markdown",
      "source": [
        "## Постройте гистограмму из 20 наиболее употребительных слов в приложенном файле, а таже сделайте сводку по файлу включая количество слов, строк и символов (с пробелами и без них)."
      ],
      "metadata": {
        "id": "ZWgnSai2PBFg"
      }
    },
    {
      "cell_type": "code",
      "source": [
        "import string\n",
        "from collections import Counter\n",
        "import re\n",
        "import pandas as pd\n",
        "import seaborn as sns\n",
        "import matplotlib.pyplot as plt"
      ],
      "metadata": {
        "id": "-ulMK8LgTKlC"
      },
      "execution_count": null,
      "outputs": []
    },
    {
      "cell_type": "code",
      "source": [
        "# Открываем файл для чтения\n",
        "with open('/content/drive/MyDrive/Datasets/Уэллс_-_Война_миров.txt', 'r', encoding='cp1251') as file:\n",
        "    text = file.read()\n",
        "    \n",
        "    # Подсчет количества строк в файле\n",
        "    num_lines = text.count('\\n')\n",
        "    print(f'количество строк: {num_lines}')\n",
        "    text = text.replace('\\n', ' ')\n",
        "    text = text.replace('\\xa0', '')\n",
        "    \n",
        "    # Подсчет количества слов в файле\n",
        "    words = text.split()\n",
        "    num_words = len(words)\n",
        "    print(f'количество слов: {num_words}')\n",
        "    \n",
        "    # Подсчет количества символов в файле\n",
        "    num_chars = len(text)\n",
        "    print(f'количество символов: {num_chars}')\n",
        "\n",
        "    # Подсчет количества символов без пробелов в файле\n",
        "    num_chars_no_spaces = len(text.replace(' ', ''))\n",
        "    print(f'количество символов без пробелов: {num_chars_no_spaces}')\n"
      ],
      "metadata": {
        "colab": {
          "base_uri": "https://localhost:8080/"
        },
        "id": "t3Qtve6KN-tR",
        "outputId": "dc1ea1e9-9a9f-4bb7-c805-08f1eedf4b8d"
      },
      "execution_count": null,
      "outputs": [
        {
          "output_type": "stream",
          "name": "stdout",
          "text": [
            "количество строк: 2128\n",
            "количество слов: 44688\n",
            "количество символов: 297709\n",
            "количество символов без пробелов: 251863\n"
          ]
        }
      ]
    },
    {
      "cell_type": "code",
      "source": [
        "# Удаление знаков препинания из текста и перевод всех слов в нижний регистр\n",
        "text_no_punct = re.sub(r'[.,\"\\'-?:!;–]', '', text).lower()\n",
        "\n",
        "# Создание списка слов\n",
        "words = text_no_punct.split()\n",
        "\n",
        "# Подсчет частоты встречаемости каждого слова в файле\n",
        "word_freq = pd.Series(words).value_counts().head(20)\n",
        "word_freq"
      ],
      "metadata": {
        "colab": {
          "base_uri": "https://localhost:8080/"
        },
        "id": "LDEt0u4mVl9y",
        "outputId": "80eab777-6c5d-4038-ed95-7da6d422c61f"
      },
      "execution_count": null,
      "outputs": [
        {
          "output_type": "execute_result",
          "data": {
            "text/plain": [
              "и       1744\n",
              "в       1200\n",
              "я       1010\n",
              "на       893\n",
              "не       628\n",
              "что      563\n",
              "с        416\n",
              "к        362\n",
              "он       361\n",
              "по       297\n",
              "как      280\n",
              "из       269\n",
              "они      250\n",
              "все      244\n",
              "за       220\n",
              "мы       219\n",
              "от       216\n",
              "но       211\n",
              "это      208\n",
              "было     181\n",
              "dtype: int64"
            ]
          },
          "metadata": {},
          "execution_count": 53
        }
      ]
    },
    {
      "cell_type": "code",
      "source": [
        "plt.figure(figsize=(10,6))\n",
        "sns.barplot(x=word_freq.index, y=word_freq.values);"
      ],
      "metadata": {
        "colab": {
          "base_uri": "https://localhost:8080/",
          "height": 522
        },
        "id": "QxoRdbc8V4Gs",
        "outputId": "c02ebd65-c183-4adf-c09a-d3e5e2e63990"
      },
      "execution_count": null,
      "outputs": [
        {
          "output_type": "display_data",
          "data": {
            "text/plain": [
              "<Figure size 1000x600 with 1 Axes>"
            ],
            "image/png": "[encoded data removed]"
          },
          "metadata": {}
        }
      ]
    },
    {
      "cell_type": "code",
      "source": [],
      "metadata": {
        "id": "BL2Z_urcNiEh"
      },
      "execution_count": null,
      "outputs": []
    }
  ]
}